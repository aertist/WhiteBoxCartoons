{
  "nbformat": 4,
  "nbformat_minor": 0,
  "metadata": {
    "colab": {
      "name": "WhiteBoxCartoons.ipynb",
      "provenance": [],
      "collapsed_sections": [],
      "toc_visible": true,
      "include_colab_link": true
    },
    "kernelspec": {
      "name": "python3",
      "display_name": "Python 3"
    },
    "accelerator": "GPU"
  },
  "cells": [
    {
      "cell_type": "markdown",
      "metadata": {
        "id": "view-in-github",
        "colab_type": "text"
      },
      "source": [
        "<a href=\"https://colab.research.google.com/github/aertist/WhiteBoxCartoons/blob/main/WhiteBoxCartoons.ipynb\" target=\"_parent\"><img src=\"https://colab.research.google.com/assets/colab-badge.svg\" alt=\"Open In Colab\"/></a>"
      ]
    },
    {
      "cell_type": "markdown",
      "metadata": {
        "id": "fybyHIHuqkle"
      },
      "source": [
        "**WhiteBoxCartoonization iPython Notebook By [AERTIST](https://www.instagram.com/aertist)**"
      ]
    },
    {
      "cell_type": "markdown",
      "metadata": {
        "id": "LW6Yj66ukLkR"
      },
      "source": [
        "#**Clone the repo and select TF version as 1**"
      ]
    },
    {
      "cell_type": "code",
      "metadata": {
        "id": "gDe2ZuSaUD_C"
      },
      "source": [
        "!git clone https://github.com/aertist/WhiteBoxCartoons.git -q\r\n",
        "%cd /content/WhiteBoxCartoons/test_code"
      ],
      "execution_count": null,
      "outputs": []
    },
    {
      "cell_type": "code",
      "metadata": {
        "id": "S54C3V9HoJ2i"
      },
      "source": [
        "!mkdir  /content/WhiteBoxCartoons/test_code/test_images"
      ],
      "execution_count": null,
      "outputs": []
    },
    {
      "cell_type": "code",
      "metadata": {
        "id": "1sci5ophW-sE"
      },
      "source": [
        "%tensorflow_version 1.x"
      ],
      "execution_count": null,
      "outputs": []
    },
    {
      "cell_type": "markdown",
      "metadata": {
        "id": "4Yu48NnTkIFh"
      },
      "source": [
        "\r\n",
        "\r\n",
        "---\r\n",
        "\r\n"
      ]
    },
    {
      "cell_type": "markdown",
      "metadata": {
        "id": "MMfRYwH3j5my"
      },
      "source": [
        "#**Copy the video from your drive to colab and split it into frames**"
      ]
    },
    {
      "cell_type": "code",
      "metadata": {
        "id": "6fyeT4mMoR4w"
      },
      "source": [
        "from google.colab import drive\n",
        "drive.mount('/content/drive')"
      ],
      "execution_count": null,
      "outputs": []
    },
    {
      "cell_type": "code",
      "metadata": {
        "id": "iKQwDuwLVMkd"
      },
      "source": [
        "!cp /content/drive/MyDrive/expvids/kate.mkv /content/WhiteBoxCartoons/test_code"
      ],
      "execution_count": null,
      "outputs": []
    },
    {
      "cell_type": "code",
      "metadata": {
        "id": "4RoEypYeVdop"
      },
      "source": [
        "!ffmpeg -ss 6 -t 01:00 -i /content/WhiteBoxCartoons/test_code/kate.mkv /content/WhiteBoxCartoons/test_code/test_images/%d.jpg"
      ],
      "execution_count": null,
      "outputs": []
    },
    {
      "cell_type": "code",
      "metadata": {
        "id": "tBrruC85D0uw"
      },
      "source": [
        "!rm /content/WhiteBoxCartoons/test_code/kate.mkv"
      ],
      "execution_count": null,
      "outputs": []
    },
    {
      "cell_type": "markdown",
      "metadata": {
        "id": "c88i9i-IkFcL"
      },
      "source": [
        "\r\n",
        "\r\n",
        "---\r\n",
        "\r\n"
      ]
    },
    {
      "cell_type": "markdown",
      "metadata": {
        "id": "afzALRkqkZoJ"
      },
      "source": [
        "#**Cartoonize the video or image**"
      ]
    },
    {
      "cell_type": "code",
      "metadata": {
        "id": "5SEDvEi7W1Lq"
      },
      "source": [
        "cd /content/WhiteBoxCartoons/test_code"
      ],
      "execution_count": null,
      "outputs": []
    },
    {
      "cell_type": "code",
      "metadata": {
        "id": "A8_WtJQrWQon",
        "colab": {
          "base_uri": "https://localhost:8080/"
        },
        "outputId": "7f877ff0-37aa-41a2-f3e6-648f55188121"
      },
      "source": [
        "#Output frames will be in cartoonized_images\r\n",
        "!python cartoonize.py "
      ],
      "execution_count": null,
      "outputs": [
        {
          "output_type": "stream",
          "text": [
            " 38% 1362/3600 [03:45<06:02,  6.17it/s]"
          ],
          "name": "stdout"
        }
      ]
    },
    {
      "cell_type": "markdown",
      "metadata": {
        "id": "1sobUqmrlzDR"
      },
      "source": [
        "\r\n",
        "\r\n",
        "---\r\n",
        "\r\n"
      ]
    },
    {
      "cell_type": "markdown",
      "metadata": {
        "id": "yZaIhZhQl0VJ"
      },
      "source": [
        "#**Now convert frames bacc into a single video or download the individual frames**"
      ]
    },
    {
      "cell_type": "markdown",
      "metadata": {
        "id": "KZepmNFDmEkB"
      },
      "source": [
        "**This converts the images into video**"
      ]
    },
    {
      "cell_type": "code",
      "metadata": {
        "id": "mXNLtJcTf29B"
      },
      "source": [
        "cd /content/WhiteBoxCartoons/test_code/cartoonized_images"
      ],
      "execution_count": null,
      "outputs": []
    },
    {
      "cell_type": "code",
      "metadata": {
        "id": "pV1A5eoUfhpJ"
      },
      "source": [
        "!ffmpeg -i %d.jpg -crf 10 -r 60 -s 1920x1080 /content/WhiteBoxCartoons/output.mp4 "
      ],
      "execution_count": null,
      "outputs": []
    },
    {
      "cell_type": "code",
      "metadata": {
        "id": "ah_-d3M2qNrb"
      },
      "source": [
        "!cp /content/WhiteBoxCartoons/output.mp4 /content/drive/MyDrive"
      ],
      "execution_count": null,
      "outputs": []
    },
    {
      "cell_type": "markdown",
      "metadata": {
        "id": "Hg49OmRQmLEQ"
      },
      "source": [
        "**This zips the cartoonized_images folder and move it to your drive**"
      ]
    },
    {
      "cell_type": "code",
      "metadata": {
        "id": "Ycun3N9dmUL_"
      },
      "source": [
        "!zip -r /content/WhiteBoxCartoons/cartoon_frames.zip /content/WhiteBoxCartoons/test_code/cartoonized_images -q"
      ],
      "execution_count": null,
      "outputs": []
    },
    {
      "cell_type": "code",
      "metadata": {
        "id": "etgw0Exun9A3"
      },
      "source": [
        "!mv /content/WhiteBoxCartoons/cartoon_frames.zip /content/drive/MyDrive"
      ],
      "execution_count": null,
      "outputs": []
    },
    {
      "cell_type": "markdown",
      "metadata": {
        "id": "-yMc9xiKpMTi"
      },
      "source": [
        "\r\n",
        "\r\n",
        "---\r\n",
        "\r\n"
      ]
    },
    {
      "cell_type": "markdown",
      "metadata": {
        "id": "O0UjYqzJpkZC"
      },
      "source": [
        "#**Clean folders for next run**"
      ]
    },
    {
      "cell_type": "markdown",
      "metadata": {
        "id": "Tk7G0rzLpNMb"
      },
      "source": [
        "**This will clear all the files in test_images and cartoonized_images folder**"
      ]
    },
    {
      "cell_type": "code",
      "metadata": {
        "id": "FsKFPB_osHs7"
      },
      "source": [
        "cd .."
      ],
      "execution_count": null,
      "outputs": []
    },
    {
      "cell_type": "code",
      "metadata": {
        "id": "ZzW0kFy_UadV"
      },
      "source": [
        "!rm -rf /content/WhiteBoxCartoons/test_code/test_images\r\n",
        "!mkdir  /content/WhiteBoxCartoons/test_code/test_images"
      ],
      "execution_count": null,
      "outputs": []
    },
    {
      "cell_type": "code",
      "metadata": {
        "id": "t3Wjx2DWpsLV"
      },
      "source": [
        "!rm -rf /content/WhiteBoxCartoons/test_code/cartoonized_images"
      ],
      "execution_count": null,
      "outputs": []
    }
  ]
}