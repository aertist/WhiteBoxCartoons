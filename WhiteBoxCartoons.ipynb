{
  "nbformat": 4,
  "nbformat_minor": 0,
  "metadata": {
    "colab": {
      "name": "WhiteBoxCartoons.ipynb",
      "provenance": [],
      "collapsed_sections": [],
      "mount_file_id": "193ojOtD7zmVJk-BGwlCQ_vtjSvYyqOnF",
      "authorship_tag": "ABX9TyNFfcaoaDhilMSnDEWXvoAF",
      "include_colab_link": true
    },
    "kernelspec": {
      "name": "python3",
      "display_name": "Python 3"
    },
    "accelerator": "GPU"
  },
  "cells": [
    {
      "cell_type": "markdown",
      "metadata": {
        "id": "view-in-github",
        "colab_type": "text"
      },
      "source": [
        "<a href=\"https://colab.research.google.com/github/aertist/WhiteBoxCartoons/blob/main/WhiteBoxCartoons.ipynb\" target=\"_parent\"><img src=\"https://colab.research.google.com/assets/colab-badge.svg\" alt=\"Open In Colab\"/></a>"
      ]
    },
    {
      "cell_type": "markdown",
      "metadata": {
        "id": "LW6Yj66ukLkR"
      },
      "source": [
        "**Clone the repo and select TF version as 1**"
      ]
    },
    {
      "cell_type": "code",
      "metadata": {
        "id": "gDe2ZuSaUD_C"
      },
      "source": [
        "!git clone https://github.com/aertist/WhiteBoxCartoons.git -q\r\n",
        "%cd /content/WhiteBoxCartoons/test_code"
      ],
      "execution_count": null,
      "outputs": []
    },
    {
      "cell_type": "code",
      "metadata": {
        "id": "1sci5ophW-sE"
      },
      "source": [
        "%tensorflow_version 1.x"
      ],
      "execution_count": null,
      "outputs": []
    },
    {
      "cell_type": "markdown",
      "metadata": {
        "id": "4Yu48NnTkIFh"
      },
      "source": [
        "\r\n",
        "\r\n",
        "---\r\n",
        "\r\n"
      ]
    },
    {
      "cell_type": "markdown",
      "metadata": {
        "id": "MMfRYwH3j5my"
      },
      "source": [
        "**Copy the video from your drive to colab and split the video into frames**"
      ]
    },
    {
      "cell_type": "code",
      "metadata": {
        "id": "iKQwDuwLVMkd"
      },
      "source": [
        "!cp /content/drive/MyDrive/disha2.mp4 /content/WhiteBoxCartoons/test_code/test_images"
      ],
      "execution_count": null,
      "outputs": []
    },
    {
      "cell_type": "code",
      "metadata": {
        "id": "4RoEypYeVdop"
      },
      "source": [
        "!ffmpeg -i /content/WhiteBoxCartoons/test_code/test_images/disha2.mp4 /content/WhiteBoxCartoons/test_code/test_images/%d.jpg\r\n",
        "\r\n",
        "!rm /content/White-box-Cartoonization/test_code/test_images/disha2.mp4"
      ],
      "execution_count": null,
      "outputs": []
    },
    {
      "cell_type": "markdown",
      "metadata": {
        "id": "c88i9i-IkFcL"
      },
      "source": [
        "\r\n",
        "\r\n",
        "---\r\n",
        "\r\n"
      ]
    },
    {
      "cell_type": "markdown",
      "metadata": {
        "id": "afzALRkqkZoJ"
      },
      "source": [
        "**Cartoonize the video or image**\r\n",
        "\r\n",
        "*Put images to be cartoonized in saved_images* \r\n",
        "\r\n",
        "*Output frames will be in cartoonized_images*\r\n",
        "\r\n"
      ]
    },
    {
      "cell_type": "code",
      "metadata": {
        "id": "5SEDvEi7W1Lq"
      },
      "source": [
        "cd /content/WhiteBoxCartoons/test_code"
      ],
      "execution_count": null,
      "outputs": []
    },
    {
      "cell_type": "code",
      "metadata": {
        "id": "A8_WtJQrWQon"
      },
      "source": [
        "!python cartoonize.py "
      ],
      "execution_count": null,
      "outputs": []
    },
    {
      "cell_type": "markdown",
      "metadata": {
        "id": "1sobUqmrlzDR"
      },
      "source": [
        "\r\n",
        "\r\n",
        "---\r\n",
        "\r\n"
      ]
    },
    {
      "cell_type": "markdown",
      "metadata": {
        "id": "yZaIhZhQl0VJ"
      },
      "source": [
        "**Now convert frames bacc into a single video or download the individual frames**"
      ]
    },
    {
      "cell_type": "markdown",
      "metadata": {
        "id": "KZepmNFDmEkB"
      },
      "source": [
        "*This converts the images into video*"
      ]
    },
    {
      "cell_type": "code",
      "metadata": {
        "id": "mXNLtJcTf29B"
      },
      "source": [
        "cd /content/WhiteBoxCartoons/test_code/cartoonized_images"
      ],
      "execution_count": null,
      "outputs": []
    },
    {
      "cell_type": "code",
      "metadata": {
        "id": "pV1A5eoUfhpJ"
      },
      "source": [
        "!ffmpeg -i %d.jpg /content/WhiteBoxCartoons/output.mp4 -crf 0 "
      ],
      "execution_count": null,
      "outputs": []
    },
    {
      "cell_type": "markdown",
      "metadata": {
        "id": "Hg49OmRQmLEQ"
      },
      "source": [
        "*This zips the cartoonized_images folder and move it into your drive*"
      ]
    },
    {
      "cell_type": "code",
      "metadata": {
        "id": "Ycun3N9dmUL_"
      },
      "source": [
        "!zip -r /content/WhiteBoxCartoons/cartoon_frames.zip /content/WhiteBoxCartoons/test_code/cartoonized_images -q"
      ],
      "execution_count": null,
      "outputs": []
    },
    {
      "cell_type": "code",
      "metadata": {
        "id": "etgw0Exun9A3"
      },
      "source": [
        "!mv /content/WhiteBoxCartoons/cartoon_frames.zip /content/drive/MyDrive"
      ],
      "execution_count": null,
      "outputs": []
    },
    {
      "cell_type": "markdown",
      "metadata": {
        "id": "-yMc9xiKpMTi"
      },
      "source": [
        "\r\n",
        "\r\n",
        "---\r\n",
        "\r\n"
      ]
    },
    {
      "cell_type": "markdown",
      "metadata": {
        "id": "Tk7G0rzLpNMb"
      },
      "source": [
        "**This will clear all the files in test_images and cartoonized_images folder**"
      ]
    },
    {
      "cell_type": "code",
      "metadata": {
        "id": "ZzW0kFy_UadV"
      },
      "source": [
        "!rm -rf /content/WhiteBoxCartoons/test_code/test_images\r\n",
        "!mkdir  /content/WhiteBoxCartoons/test_code/test_images\r\n",
        "\r\n",
        "!rm -rf /content/WhiteBoxCartoons/test_code/cartoonized_images"
      ],
      "execution_count": null,
      "outputs": []
    }
  ]
}